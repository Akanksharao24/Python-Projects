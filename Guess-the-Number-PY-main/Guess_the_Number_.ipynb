{
  "nbformat": 4,
  "nbformat_minor": 0,
  "metadata": {
    "colab": {
      "provenance": []
    },
    "kernelspec": {
      "name": "python3",
      "display_name": "Python 3"
    },
    "language_info": {
      "name": "python"
    }
  },
  "cells": [
    {
      "cell_type": "markdown",
      "source": [
        "**NUMBER GUESSING GAME**"
      ],
      "metadata": {
        "id": "6cxpCb_Tlnqe"
      }
    },
    {
      "cell_type": "markdown",
      "source": [
        "Range of Number of tries are not mentioned"
      ],
      "metadata": {
        "id": "aIsM6LqSztDy"
      }
    },
    {
      "cell_type": "code",
      "source": [
        "import random #random library is used to generate random numbers\n",
        "import math # math library is for providing standard mathematical constants and functions\n",
        "\n",
        "# Taking inputs from the user\n",
        "lowerbound = int(input(\"Enter the lower bound :-\"))\n",
        "upperbound = int(input(\"Enter the upper bound :-\"))\n",
        "\n",
        "# Generating Random Numbers\n",
        "x = random.randint(lowerbound , upperbound)\n",
        "guess = int(input(\"Enter Your Guess :- \"))\n",
        "\n",
        "#Initialising A loop\n",
        "count = 0\n",
        "while x != guess :\n",
        "  count += 1\n",
        "  if guess < x :\n",
        "    print (\"Your Guess is to Low\")\n",
        "    guess = int(input(\"Enter number again: \"))\n",
        "\n",
        "  elif guess > x :\n",
        "    print (\"Your Guess is to High\")\n",
        "    guess = int(input(\"Enter number again: \"))\n",
        "\n",
        "  else :\n",
        "    break\n",
        "\n",
        "print(\"You Guessed it Correct Amigo !\", count ,\"tries\")"
      ],
      "metadata": {
        "id": "W4eruSiQlszJ"
      },
      "execution_count": null,
      "outputs": []
    },
    {
      "cell_type": "markdown",
      "source": [
        "Range of Number of tries are mentioned"
      ],
      "metadata": {
        "id": "Skdi07zGzdpn"
      }
    },
    {
      "cell_type": "code",
      "source": [
        "import random #random library is used to generate random numbers\n",
        "import math # math library is for providing standard mathematical constants and functions\n",
        "\n",
        "# Taking inputs from the user\n",
        "lowerbound = int(input(\"Enter the lower bound :-\"))\n",
        "upperbound = int(input(\"Enter the upper bound :-\"))\n",
        "\n",
        "# Generating Random Numbers\n",
        "x = random.randint(lowerbound, upperbound)\n",
        "print(\"\\n\\tYou've only \",\n",
        "       round(math.log(upperbound - lowerbound + 1, 2)),# its a range function lower bound - Upper bound + 1. The 2 represents log to the base 2\n",
        "      \" chances to guess the integer!\\n\")\n",
        "\n",
        "#Initialising A loop\n",
        "count = 0\n",
        "guess = int(input(\"Enter Your Guess :- \"))\n",
        "while x != guess :\n",
        "  count += 1\n",
        "  if guess < x :\n",
        "    print (\"Your Guess is to Low\")\n",
        "    guess = int(input(\"Enter number again: \"))\n",
        "\n",
        "  elif guess > x :\n",
        "    print (\"Your Guess is to High\")\n",
        "    guess = int(input(\"Enter number again: \"))\n",
        "\n",
        "  else :\n",
        "    break\n",
        "\n",
        "print(\"You Guessed it Correct Amigo !\", count ,\"tries\")"
      ],
      "metadata": {
        "id": "VEQNzc9-lumv"
      },
      "execution_count": null,
      "outputs": []
    }
  ]
}